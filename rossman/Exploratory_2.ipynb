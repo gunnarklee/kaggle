{
 "cells": [
  {
   "cell_type": "code",
   "execution_count": 121,
   "metadata": {
    "collapsed": true
   },
   "outputs": [],
   "source": [
    "%matplotlib inline\n",
    "\n",
    "import matplotlib.pyplot as plt\n",
    "import matplotlib.dates\n",
    "from datetime import datetime\n",
    "import random\n",
    "import numpy as np\n",
    "from datetime import datetime\n",
    "import pandas"
   ]
  },
  {
   "cell_type": "code",
   "execution_count": 198,
   "metadata": {
    "collapsed": false
   },
   "outputs": [],
   "source": [
    "data_dtypes = {'Store':int,'DayOfWeek':int,'Date':datetime,'Sales':float,'Customers':int,'Promo':int,\n",
    "               'StateHoliday':str, 'SchoolHoliday':int}\n",
    "store_dtypes = {'Store':int,'StoreType':str,'Assortment':str,'CompetitionDistance':str,\n",
    "                'CompetitionOpenSinceMonth':str,'CompetitionOpenSinceYear':str,'Promo2':int,\n",
    "                'Promo2SinceWeek':str,'Promo2SinceYear':str,'PromoInterval':list}\n",
    "train_df = pd.read_csv('~/Development/kaggle/rossman/data/train.csv',\n",
    "                        dtype=data_dtypes,\n",
    "                        parse_dates='Date'\n",
    "                        )\n",
    "test_df = pd.read_csv('~/Development/kaggle/rossman/data/test.csv',\n",
    "                       dtype=data_dtypes,\n",
    "                       parse_dates='Date'\n",
    "                       )\n",
    "store_df = pd.read_csv('~/Development/kaggle/rossman/data/store.csv',\n",
    "                        quotechar='\"',\n",
    "                        index_col=0,\n",
    "                        dtype=store_dtypes\n",
    "                        )\n",
    "store_df = store_data.fillna('')"
   ]
  },
  {
   "cell_type": "markdown",
   "metadata": {},
   "source": [
    "Use some of the training set to make a mini training set...\n",
    "\n",
    "The test_df doesn't contain label information, so we need to make our own test data set from the training data"
   ]
  },
  {
   "cell_type": "code",
   "execution_count": 247,
   "metadata": {
    "collapsed": false
   },
   "outputs": [],
   "source": [
    "#sample 20% of the train_data dataframe\n",
    "sample_stores = random.sample(store_df.index, len(store_df)/20)\n",
    "dev_train_df = train_df[train_df['Store'].isin(sample_stores)]\n",
    "\n",
    "# Remove the mini_train data from the train dataframe\n",
    "train_df = train_df[~train_df['Store'].isin(sample_stores)]\n",
    "\n",
    "# use 10% for a dev_test data set\n",
    "sample_stores = random.sample(store_df.index, len(store_df)/10)\n",
    "dev_test_df = train_df[train_df['Store'].isin(sample_stores)]\n",
    "train_df = train_df[~train_df['Store'].isin(sample_stores)]"
   ]
  },
  {
   "cell_type": "code",
   "execution_count": 248,
   "metadata": {
    "collapsed": false
   },
   "outputs": [],
   "source": [
    "#extract NumPy arrays from the Pandas Dataframes and convert the features array\n",
    "dev_train_labels = dev_train_df['Sales'].values\n",
    "feature_columns = ['Store',\n",
    "                   'DayOfWeek',\n",
    "#                   'Date',\n",
    "                   'Customers',\n",
    "                   'Promo',\n",
    "#                   'StateHoliday',\n",
    "                   'SchoolHoliday'\n",
    "                  ]\n",
    "\n",
    "dev_train_features = dev_train_df.drop('Sales',1)[feature_columns].values\n",
    "\n",
    "dev_test_labels   = dev_test_df['Sales'].values\n",
    "dev_test_features = dev_test_df.drop('Sales',1)[feature_columns].values"
   ]
  },
  {
   "cell_type": "code",
   "execution_count": 249,
   "metadata": {
    "collapsed": false
   },
   "outputs": [],
   "source": [
    "test_data_mean = np.mean(dev_train_labels, dtype=np.int64)\n",
    "dev_train_labels = dev_train_labels - test_data_mean\n",
    "dev_test_labels = dev_test_labels - test_data_mean"
   ]
  },
  {
   "cell_type": "code",
   "execution_count": 250,
   "metadata": {
    "collapsed": false
   },
   "outputs": [
    {
     "name": "stdout",
     "output_type": "stream",
     "text": [
      "Accuracy = 0.1693\n"
     ]
    }
   ],
   "source": [
    "from sklearn.neighbors import KNeighborsClassifier\n",
    "\n",
    "neighbors = 10\n",
    "clf = KNeighborsClassifier(neighbors)\n",
    "clf.fit(dev_train_features, dev_train_labels)\n",
    "accuracy = clf.score(dev_test_features, dev_test_labels)\n",
    "print 'Accuracy = %.4f' %(accuracy)"
   ]
  },
  {
   "cell_type": "code",
   "execution_count": 251,
   "metadata": {
    "collapsed": false
   },
   "outputs": [],
   "source": [
    "from sklearn.linear_model import LinearRegression\n"
   ]
  },
  {
   "cell_type": "code",
   "execution_count": 252,
   "metadata": {
    "collapsed": false
   },
   "outputs": [
    {
     "name": "stdout",
     "output_type": "stream",
     "text": [
      "('Coefficients: \\n', array([  5.04203138e-01,  -4.99957468e+01,   8.45903139e+00,\n",
      "         9.96562234e+02,   7.81632863e+00]))\n",
      "Residual sum of squares: 2649164.14\n",
      "variance score: 0.79\n"
     ]
    }
   ],
   "source": [
    "clf = LinearRegression()\n",
    "clf.fit(dev_train_features, dev_train_labels)\n",
    "print ('Coefficients: \\n', clf.coef_)\n",
    "print ('Residual sum of squares: %.2f' % np.mean((clf.predict(dev_test_features) - dev_test_labels) **2))\n",
    "print ('variance score: %.2f' % clf.score(dev_test_features, dev_test_labels))"
   ]
  },
  {
   "cell_type": "code",
   "execution_count": null,
   "metadata": {
    "collapsed": true
   },
   "outputs": [],
   "source": []
  }
 ],
 "metadata": {
  "kernelspec": {
   "display_name": "Python 2",
   "language": "python",
   "name": "python2"
  },
  "language_info": {
   "codemirror_mode": {
    "name": "ipython",
    "version": 2
   },
   "file_extension": ".py",
   "mimetype": "text/x-python",
   "name": "python",
   "nbconvert_exporter": "python",
   "pygments_lexer": "ipython2",
   "version": "2.7.10"
  }
 },
 "nbformat": 4,
 "nbformat_minor": 0
}
