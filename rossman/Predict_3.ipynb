{
 "cells": [
  {
   "cell_type": "code",
   "execution_count": 82,
   "metadata": {
    "collapsed": false
   },
   "outputs": [],
   "source": [
    "# Imports\n",
    "\n",
    "# pandas\n",
    "import pandas as pd\n",
    "from pandas import Series,DataFrame\n",
    "\n",
    "# numpy, matplotlib, seaborn\n",
    "import numpy as np\n",
    "import matplotlib.pyplot as plt\n",
    "import matplotlib.cm as cm\n",
    "import seaborn as sns\n",
    "sns.set_style('whitegrid')\n",
    "%matplotlib inline\n",
    "\n",
    "from sklearn import datasets, linear_model, cross_validation, grid_search"
   ]
  },
  {
   "cell_type": "code",
   "execution_count": 83,
   "metadata": {
    "collapsed": false
   },
   "outputs": [],
   "source": [
    "# get rossmann, store, & test csv files as a DataFrame\n",
    "train_df  = pd.read_csv(\"../input/train.csv\")\n",
    "store_df     = pd.read_csv(\"../input/store.csv\")\n",
    "test_df      = pd.read_csv(\"../input/test.csv\")"
   ]
  },
  {
   "cell_type": "code",
   "execution_count": 84,
   "metadata": {
    "collapsed": false
   },
   "outputs": [
    {
     "name": "stdout",
     "output_type": "stream",
     "text": [
      "0.260137435331\n",
      "0.260137435331\n"
     ]
    }
   ],
   "source": [
    "def ToWeight(y):\n",
    "    w = np.zeros(y.shape, dtype=float)\n",
    "    ind = y != 0\n",
    "    w[ind] = 1./(y[ind]**2)\n",
    "    return w\n",
    "\n",
    "def RMSPE(y, yhat):\n",
    "    y = y.astype('float')\n",
    "    yhat = yhat.astype('float')\n",
    "    # Note: y's shape is n x 1\n",
    "    w = ToWeight(y)\n",
    "    rmspe = np.sqrt(np.mean( w * (y - yhat)**2 ))\n",
    "    return rmspe\n",
    "\n",
    "def rmspe(Y_test, preds):\n",
    "    Y_test = Y_test.astype('float')\n",
    "    preds = preds.astype('float')\n",
    "    inner = ((preds-Y_test)/Y_test)**2\n",
    "    return (np.mean(inner))**0.5\n",
    "\n",
    "y1 = np.array([4,5,6,7]).astype('float')\n",
    "yhat1 = np.array([3,7,7,8]).astype('float')\n",
    "print RMSPE(y1, yhat1)\n",
    "print rmspe(y1, yhat1)"
   ]
  },
  {
   "cell_type": "markdown",
   "metadata": {},
   "source": [
    "### Data Preprocessing ###"
   ]
  },
  {
   "cell_type": "code",
   "execution_count": 85,
   "metadata": {
    "collapsed": true
   },
   "outputs": [],
   "source": [
    "# Got a warning about column 7 during import.\n",
    "# Fix it by change all 0 to '0'\n",
    "train_df.loc[train_df['StateHoliday'] == 0, 'StateHoliday'] = '0'\n",
    "\n",
    "# Convert the date column in train and test data\n",
    "train_df['Date'] = pd.to_datetime(train_df['Date'], format=\"%Y-%m-%d\")\n",
    "test_df['Date'] = pd.to_datetime(test_df['Date'], format=\"%Y-%m-%d\")\n",
    "\n",
    "# Keep only records where the store is open\n",
    "train_df = train_df[train_df['Open'] == 1]\n",
    "\n",
    "# Keep only records with non-zero sales\n",
    "train_df = train_df[train_df['Sales'] > 0]\n",
    "\n",
    "# For each store, find its first opening day and merge it into store_df\n",
    "storeOpenDays = train_df.groupby('Store')['Date'].min()\n",
    "d = pd.DataFrame(storeOpenDays)\n",
    "d = d.rename(columns = {'Date':'OpenDay'})\n",
    "store_df = pd.merge(store_df, d, left_on = 'Store', right_index = True) \n",
    "\n",
    "# For each store, convert it's competitor open day into a Date column\n",
    "competitorOpenDay = store_df.apply(lambda row: np.nan \n",
    "        if pd.isnull(row['CompetitionOpenSinceMonth']) or pd.isnull(row['CompetitionOpenSinceYear'])\n",
    "        else np.datetime64(\"%d-%02d-01\" % (int(row['CompetitionOpenSinceYear']), int(row['CompetitionOpenSinceMonth']))), \n",
    "        axis=1)\n",
    "\n",
    "store_df[\"CompetitorOpenDay\"] = competitorOpenDay\n",
    "\n",
    "# For those stores with empty CompetitorOpenDay date, set it to the same as StoreOpenDay\n",
    "store_df.ix[:, 'CompetitorOpenDay'] = store_df[\"CompetitorOpenDay\"].fillna(store_df['OpenDay'])"
   ]
  },
  {
   "cell_type": "code",
   "execution_count": 86,
   "metadata": {
    "collapsed": false
   },
   "outputs": [],
   "source": [
    "def convertColToCategory(data, colName, knownCategories):\n",
    "    data.loc[:, colName] = data.loc[:, colName].astype('category', categories=knownCategories)\n",
    "\n",
    "def transformData(inputData):\n",
    "\n",
    "    data = inputData.copy()\n",
    "\n",
    "    # StateHoliday have values of both '0' and 0.  Change all 0 to '0'\n",
    "    data.loc[data['StateHoliday'] == 0, ('StateHoliday')] = '0'\n",
    "\n",
    "    # Can consider:\n",
    "    # Add a \"IsDec\" col\n",
    "\n",
    "    # Convert categorical columns to category type\n",
    "    convertColToCategory(data, 'DayOfWeek', list(range(1, 8)))\n",
    "    convertColToCategory(data, 'Promo', list(range(2)))\n",
    "    convertColToCategory(data, 'SchoolHoliday', list(range(2)))\n",
    "    convertColToCategory(data, 'StateHoliday', list('0abc'))\n",
    "    \n",
    "    if 'StoreType' in data.columns:\n",
    "        convertColToCategory(data, 'StoreType', list('abcd'))\n",
    "                         \n",
    "    if 'Assortment' in data.columns:\n",
    "        convertColToCategory(data, 'Assortment', list('abc'))\n",
    "\n",
    "    return pd.get_dummies(data)"
   ]
  },
  {
   "cell_type": "code",
   "execution_count": 87,
   "metadata": {
    "collapsed": true
   },
   "outputs": [],
   "source": [
    "train_full_df = pd.merge(train_df, store_df.ix[:,['StoreType', 'Assortment', 'Store']], on='Store')"
   ]
  },
  {
   "cell_type": "code",
   "execution_count": 88,
   "metadata": {
    "collapsed": true
   },
   "outputs": [],
   "source": [
    "train_data = transformData(train_full_df)"
   ]
  },
  {
   "cell_type": "code",
   "execution_count": 89,
   "metadata": {
    "collapsed": false
   },
   "outputs": [],
   "source": [
    "train_data.set_index('Date', inplace=True)\n",
    "train_data.sort_index(inplace=True)"
   ]
  },
  {
   "cell_type": "code",
   "execution_count": 90,
   "metadata": {
    "collapsed": false
   },
   "outputs": [
    {
     "data": {
      "text/plain": [
       "Index([u'Store', u'Sales', u'Customers', u'Open', u'DayOfWeek_1',\n",
       "       u'DayOfWeek_2', u'DayOfWeek_3', u'DayOfWeek_4', u'DayOfWeek_5',\n",
       "       u'DayOfWeek_6', u'DayOfWeek_7', u'Promo_0', u'Promo_1',\n",
       "       u'StateHoliday_0', u'StateHoliday_a', u'StateHoliday_b',\n",
       "       u'StateHoliday_c', u'SchoolHoliday_0', u'SchoolHoliday_1',\n",
       "       u'StoreType_a', u'StoreType_b', u'StoreType_c', u'StoreType_d',\n",
       "       u'Assortment_a', u'Assortment_b', u'Assortment_c'],\n",
       "      dtype='object')"
      ]
     },
     "execution_count": 90,
     "metadata": {},
     "output_type": "execute_result"
    }
   ],
   "source": [
    "train_data.columns"
   ]
  },
  {
   "cell_type": "code",
   "execution_count": 91,
   "metadata": {
    "collapsed": false
   },
   "outputs": [],
   "source": [
    "def getX(data, *args):\n",
    "    x_drop_cols = ['Store', 'Open'] + list(args)\n",
    "    \n",
    "    train_cols = ['Sales', 'Customers']\n",
    "    for c in train_cols:\n",
    "        if c in data.columns:\n",
    "            x_drop_cols.append(c)\n",
    "        \n",
    "    return data.drop(x_drop_cols, axis=1, inplace=False)"
   ]
  },
  {
   "cell_type": "code",
   "execution_count": 92,
   "metadata": {
    "collapsed": false
   },
   "outputs": [],
   "source": [
    "def trainModels(n_cutoff_months):\n",
    "    all_y = []\n",
    "    all_yhat = []\n",
    "    lms = {}\n",
    "    \n",
    "    test_cutoff_date = train_data.index.max() - pd.DateOffset(months = n_cutoff_months)\n",
    "\n",
    "    train_set = train_data[train_data.index <= test_cutoff_date]\n",
    "    dev_set = train_data[train_data.index > test_cutoff_date]\n",
    "    print \"train_set size:\", len(train_set)\n",
    "    print \"dev_set size:\", len(dev_set)\n",
    "\n",
    "    \n",
    "    train_set_grouped = train_set.groupby('Store')\n",
    "    dev_set_grouped = dev_set.groupby('Store')\n",
    "\n",
    "    for group in train_set_grouped.groups.keys():\n",
    "        x_drop_cols = ['Store', 'Sales', 'Customers', 'Open']\n",
    "\n",
    "        train_X = train_set_grouped.get_group(group).drop(x_drop_cols, axis=1, inplace=False)\n",
    "        train_y = train_set_grouped.get_group(group)['Sales']\n",
    "\n",
    "        dev_X = dev_set_grouped.get_group(group).drop(x_drop_cols, axis=1, inplace=False)\n",
    "        dev_y = dev_set_grouped.get_group(group)['Sales']\n",
    "\n",
    "        # One model per store\n",
    "        lm = linear_model.LinearRegression()\n",
    "        lm.fit(X=train_X, y=train_y)\n",
    "        lms[group] = lm\n",
    "        yhat = lm.predict(dev_X)\n",
    "\n",
    "        all_y.extend(dev_y.tolist())\n",
    "        all_yhat.extend(yhat.tolist())\n",
    "\n",
    "    print \"Training model - dev data RMSPE=\", RMSPE(np.array(all_y), np.array(all_yhat))\n",
    "    return lms"
   ]
  },
  {
   "cell_type": "code",
   "execution_count": 93,
   "metadata": {
    "collapsed": false
   },
   "outputs": [
    {
     "name": "stdout",
     "output_type": "stream",
     "text": [
      "train_set size: 785727\n",
      "dev_set size: 58611\n",
      "Training model - dev data RMSPE= 0.151001136238\n"
     ]
    }
   ],
   "source": [
    "models = trainModels(2)"
   ]
  },
  {
   "cell_type": "markdown",
   "metadata": {},
   "source": [
    "## Make Predictions on Test data ##"
   ]
  },
  {
   "cell_type": "code",
   "execution_count": 60,
   "metadata": {
    "collapsed": false
   },
   "outputs": [],
   "source": [
    "test_full_df = pd.merge(test_df, store_df.ix[:,['StoreType', 'Assortment', 'Store']], on='Store')"
   ]
  },
  {
   "cell_type": "code",
   "execution_count": 61,
   "metadata": {
    "collapsed": true
   },
   "outputs": [],
   "source": [
    "test_data = transformData(test_full_df)"
   ]
  },
  {
   "cell_type": "code",
   "execution_count": 62,
   "metadata": {
    "collapsed": false
   },
   "outputs": [
    {
     "data": {
      "text/plain": [
       "Index([u'Id', u'Store', u'Date', u'Open', u'DayOfWeek_1', u'DayOfWeek_2',\n",
       "       u'DayOfWeek_3', u'DayOfWeek_4', u'DayOfWeek_5', u'DayOfWeek_6',\n",
       "       u'DayOfWeek_7', u'Promo_0', u'Promo_1', u'StateHoliday_0',\n",
       "       u'StateHoliday_a', u'StateHoliday_b', u'StateHoliday_c',\n",
       "       u'SchoolHoliday_0', u'SchoolHoliday_1', u'StoreType_a', u'StoreType_b',\n",
       "       u'StoreType_c', u'StoreType_d', u'Assortment_a', u'Assortment_b',\n",
       "       u'Assortment_c'],\n",
       "      dtype='object')"
      ]
     },
     "execution_count": 62,
     "metadata": {},
     "output_type": "execute_result"
    }
   ],
   "source": [
    "test_data.columns"
   ]
  },
  {
   "cell_type": "code",
   "execution_count": 78,
   "metadata": {
    "collapsed": false
   },
   "outputs": [],
   "source": [
    "all_yhat = []\n",
    "\n",
    "test_set_grouped = train_set.groupby('Store')\n",
    "\n",
    "for group in test_set_grouped.groups.keys():\n",
    "    x_drop_cols = ['Store', 'Open']\n",
    "\n",
    "    train_X = getX(train_set_grouped.get_group(group))\n",
    "    train_y = train_set_grouped.get_group(group)['Sales']\n",
    "\n",
    "    dev_X = getX(dev_set_grouped.get_group(group))\n",
    "    dev_y = dev_set_grouped.get_group(group)['Sales']\n",
    "\n",
    "    # One model per store\n",
    "    lm = linear_model.LinearRegression()\n",
    "    lm.fit(X=train_X, y=train_y)\n",
    "    lms[group] = lm\n",
    "    yhat = lm.predict(dev_X)\n",
    "\n",
    "    all_y.extend(dev_y.tolist())\n",
    "    all_yhat.extend(yhat.tolist())"
   ]
  },
  {
   "cell_type": "code",
   "execution_count": null,
   "metadata": {
    "collapsed": true
   },
   "outputs": [],
   "source": []
  }
 ],
 "metadata": {
  "kernelspec": {
   "display_name": "Python 2",
   "language": "python",
   "name": "python2"
  },
  "language_info": {
   "codemirror_mode": {
    "name": "ipython",
    "version": 2
   },
   "file_extension": ".py",
   "mimetype": "text/x-python",
   "name": "python",
   "nbconvert_exporter": "python",
   "pygments_lexer": "ipython2",
   "version": "2.7.10"
  }
 },
 "nbformat": 4,
 "nbformat_minor": 0
}
